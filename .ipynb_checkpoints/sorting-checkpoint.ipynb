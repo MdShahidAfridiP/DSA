{
 "cells": [
  {
   "cell_type": "code",
   "execution_count": 7,
   "id": "b5f40e11",
   "metadata": {},
   "outputs": [
    {
     "name": "stdout",
     "output_type": "stream",
     "text": [
      "already sorted\n"
     ]
    },
    {
     "data": {
      "text/plain": [
       "[0, 1, 2, 3, 4, 5]"
      ]
     },
     "execution_count": 7,
     "metadata": {},
     "output_type": "execute_result"
    }
   ],
   "source": [
    "#bubble sort\n",
    "\n",
    "def bubblesort(l):\n",
    "    swap = 0\n",
    "    for i in range(len(l)):\n",
    "        for j in range(len(l)-i-1):\n",
    "            if l[j]>l[j+1]:\n",
    "                l[j],l[j+1] = l[j+1],l[j]\n",
    "                swap+=1\n",
    "        if not swap:\n",
    "            print(\"already sorted\")\n",
    "            return l\n",
    "    return l\n",
    "\n",
    "l1=[5,4,3,0,2,1]\n",
    "l2=[1,2,3,4,5,6]\n",
    "bubblesort(l)"
   ]
  },
  {
   "cell_type": "code",
   "execution_count": null,
   "id": "3fb37339",
   "metadata": {},
   "outputs": [],
   "source": []
  }
 ],
 "metadata": {
  "kernelspec": {
   "display_name": "Python 3 (ipykernel)",
   "language": "python",
   "name": "python3"
  },
  "language_info": {
   "codemirror_mode": {
    "name": "ipython",
    "version": 3
   },
   "file_extension": ".py",
   "mimetype": "text/x-python",
   "name": "python",
   "nbconvert_exporter": "python",
   "pygments_lexer": "ipython3",
   "version": "3.11.4"
  }
 },
 "nbformat": 4,
 "nbformat_minor": 5
}
