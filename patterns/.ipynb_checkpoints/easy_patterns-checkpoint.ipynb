{
 "cells": [
  {
   "cell_type": "code",
   "execution_count": 2,
   "id": "1c7f25ee",
   "metadata": {},
   "outputs": [
    {
     "name": "stdout",
     "output_type": "stream",
     "text": [
      "*****\n",
      "*****\n",
      "*****\n",
      "*****\n",
      "*****\n"
     ]
    }
   ],
   "source": [
    "n =5\n",
    "for i in range(n):\n",
    "    print('*'*5)"
   ]
  },
  {
   "cell_type": "code",
   "execution_count": 3,
   "id": "4bd9f0e4",
   "metadata": {},
   "outputs": [
    {
     "name": "stdout",
     "output_type": "stream",
     "text": [
      "*\n",
      "**\n",
      "***\n",
      "****\n",
      "*****\n"
     ]
    }
   ],
   "source": [
    "n=5\n",
    "for i in range(1,n+1):\n",
    "    print('*'*i)"
   ]
  },
  {
   "cell_type": "code",
   "execution_count": 5,
   "id": "f94868d5",
   "metadata": {},
   "outputs": [
    {
     "name": "stdout",
     "output_type": "stream",
     "text": [
      "1\n",
      "12\n",
      "123\n",
      "1234\n",
      "12345\n"
     ]
    }
   ],
   "source": [
    "n=5\n",
    "for i in range(1,n+1):\n",
    "    for j in range(1,i+1):\n",
    "        print(j,end=\"\")\n",
    "    print()"
   ]
  },
  {
   "cell_type": "code",
   "execution_count": 6,
   "id": "b9094074",
   "metadata": {},
   "outputs": [
    {
     "name": "stdout",
     "output_type": "stream",
     "text": [
      "1\n",
      "22\n",
      "333\n",
      "4444\n",
      "55555\n"
     ]
    }
   ],
   "source": [
    "n=5\n",
    "for i in range(1,n+1):\n",
    "    for j in range(1,i+1):\n",
    "        print(i,end=\"\")\n",
    "    print()"
   ]
  },
  {
   "cell_type": "code",
   "execution_count": 9,
   "id": "900aa72f",
   "metadata": {},
   "outputs": [
    {
     "name": "stdout",
     "output_type": "stream",
     "text": [
      "12345\n",
      "1234\n",
      "123\n",
      "12\n",
      "1\n"
     ]
    }
   ],
   "source": [
    "n=5\n",
    "for i in range(n,0,-1):\n",
    "    for j in range(1,i+1):\n",
    "        print(j,end=\"\")\n",
    "    print()"
   ]
  },
  {
   "cell_type": "code",
   "execution_count": 8,
   "id": "185789a2",
   "metadata": {},
   "outputs": [
    {
     "name": "stdout",
     "output_type": "stream",
     "text": [
      "    *\n",
      "   ***\n",
      "  *****\n",
      " *******\n",
      "*********\n"
     ]
    }
   ],
   "source": [
    "n=5\n",
    "for i in range(1,n+1):\n",
    "    print(\" \"*(n-i)+\"*\"*(i)+\"*\"*(i-1))"
   ]
  },
  {
   "cell_type": "code",
   "execution_count": 14,
   "id": "736c960c",
   "metadata": {},
   "outputs": [
    {
     "name": "stdout",
     "output_type": "stream",
     "text": [
      "*********\n",
      " *******\n",
      "  *****\n",
      "   ***\n",
      "    *\n"
     ]
    }
   ],
   "source": [
    "n=5\n",
    "for i in range(n,0,-1):\n",
    "    print(\" \"*(n-i)+\"*\"*(i)+\"*\"*(i-1))"
   ]
  },
  {
   "cell_type": "code",
   "execution_count": 15,
   "id": "e25515db",
   "metadata": {},
   "outputs": [
    {
     "name": "stdout",
     "output_type": "stream",
     "text": [
      "    *\n",
      "   ***\n",
      "  *****\n",
      " *******\n",
      "*********\n",
      "*********\n",
      " *******\n",
      "  *****\n",
      "   ***\n",
      "    *\n"
     ]
    }
   ],
   "source": [
    "n=5\n",
    "for i in range(1,n+1):\n",
    "    print(\" \"*(n-i)+\"*\"*(i)+\"*\"*(i-1))\n",
    "for i in range(n,0,-1):\n",
    "    print(\" \"*(n-i)+\"*\"*(i)+\"*\"*(i-1))"
   ]
  },
  {
   "cell_type": "code",
   "execution_count": 16,
   "id": "8f56ef68",
   "metadata": {},
   "outputs": [
    {
     "name": "stdout",
     "output_type": "stream",
     "text": [
      "*\n",
      "**\n",
      "***\n",
      "****\n",
      "*****\n",
      "*****\n",
      "****\n",
      "***\n",
      "**\n",
      "*\n"
     ]
    }
   ],
   "source": [
    "n=5\n",
    "for i in range(1,n+1):\n",
    "    print(\"*\"*(i))\n",
    "for i in range(n,0,-1):\n",
    "    print(\"*\"*(i))"
   ]
  },
  {
   "cell_type": "code",
   "execution_count": 19,
   "id": "fb848bbc",
   "metadata": {},
   "outputs": [
    {
     "name": "stdout",
     "output_type": "stream",
     "text": [
      "1 \n",
      "0 1 \n",
      "1 0 1 \n",
      "0 1 0 1 \n",
      "1 0 1 0 1 \n"
     ]
    }
   ],
   "source": [
    "n=5\n",
    "for i in range(1,n+1):\n",
    "    for j in range(i):\n",
    "        if (i+j)%2==0:\n",
    "            print(0,end=\" \")\n",
    "        else:\n",
    "            print(1,end=\" \")\n",
    "    print()"
   ]
  },
  {
   "cell_type": "code",
   "execution_count": null,
   "id": "dc76c29c",
   "metadata": {},
   "outputs": [],
   "source": []
  }
 ],
 "metadata": {
  "kernelspec": {
   "display_name": "Python 3 (ipykernel)",
   "language": "python",
   "name": "python3"
  },
  "language_info": {
   "codemirror_mode": {
    "name": "ipython",
    "version": 3
   },
   "file_extension": ".py",
   "mimetype": "text/x-python",
   "name": "python",
   "nbconvert_exporter": "python",
   "pygments_lexer": "ipython3",
   "version": "3.11.4"
  }
 },
 "nbformat": 4,
 "nbformat_minor": 5
}
