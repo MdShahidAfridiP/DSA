{
 "cells": [
  {
   "cell_type": "code",
   "execution_count": 4,
   "id": "b698e9b4",
   "metadata": {},
   "outputs": [
    {
     "name": "stdout",
     "output_type": "stream",
     "text": [
      "854\n"
     ]
    }
   ],
   "source": [
    "#bruteforce 2nd largest\n",
    "\n",
    "l = [6,3,43,632,74, 854, 856, 856,2,1,856]\n",
    "\n",
    "l = sorted(l)\n",
    "\n",
    "for i in range(len(l)-2, -1, -1):\n",
    "    if l[i]<l[len(l)-1]:\n",
    "        print(l[i])\n",
    "        break"
   ]
  },
  {
   "cell_type": "code",
   "execution_count": 8,
   "id": "9d45e327",
   "metadata": {},
   "outputs": [
    {
     "name": "stdout",
     "output_type": "stream",
     "text": [
      "856\n",
      "854\n"
     ]
    }
   ],
   "source": [
    "#better 2nd largest\n",
    "\n",
    "l = [6,3,43,632,74, 854, 856, 856,2,1,856]\n",
    "\n",
    "largest = 0\n",
    "\n",
    "for i in range(len(l)):\n",
    "    if l[i]>largest:\n",
    "        largest = l[i]\n",
    "\n",
    "sec_large = -1\n",
    "\n",
    "for i in range(len(l)):\n",
    "    if l[i]>sec_large and l[i]<largest:\n",
    "        sec_large = l[i]\n",
    "print(largest)\n",
    "print(sec_large)"
   ]
  },
  {
   "cell_type": "code",
   "execution_count": 20,
   "id": "81b37641",
   "metadata": {},
   "outputs": [
    {
     "name": "stdout",
     "output_type": "stream",
     "text": [
      "856\n",
      "854\n"
     ]
    }
   ],
   "source": [
    "#optimized 2nd largest\n",
    "l = [6,3,43,632,74, 856, 856,2,1,856, 854]\n",
    "\n",
    "largest = float('-inf')\n",
    "slargest = float('inf')\n",
    "\n",
    "for i in range(len(l)):\n",
    "    if l[i]>largest:\n",
    "        slargest = largest\n",
    "        largest = l[i]\n",
    "    else:\n",
    "        if l[i]>slargest and l[i]!=largest:\n",
    "            slargest = l[i]\n",
    "\n",
    "print(largest)\n",
    "print(slargest)"
   ]
  },
  {
   "cell_type": "code",
   "execution_count": 22,
   "id": "3723d12c",
   "metadata": {},
   "outputs": [
    {
     "name": "stdout",
     "output_type": "stream",
     "text": [
      "1\n",
      "2\n"
     ]
    }
   ],
   "source": [
    "#optimized 2nd smallest\n",
    "\n",
    "l = [6,3,43,632,74, 856, 856,2,1,856, 854]\n",
    "\n",
    "smallest = float('inf')\n",
    "ssmallest = float('inf')\n",
    "\n",
    "for i in range(len(l)):\n",
    "    if l[i]<smallest:\n",
    "        ssmallest = smallest\n",
    "        smallest = l[i]\n",
    "    else:\n",
    "        if l[i]<ssmallest and l[i]!=smallest:\n",
    "            ssmallest = l[i]\n",
    "print(smallest)\n",
    "print(ssmallest)"
   ]
  },
  {
   "cell_type": "code",
   "execution_count": 5,
   "id": "57799574",
   "metadata": {},
   "outputs": [
    {
     "name": "stdout",
     "output_type": "stream",
     "text": [
      "Third highest element: 7\n"
     ]
    }
   ],
   "source": [
    "#find any position value\n",
    "\n",
    "def third_highest(arr):\n",
    "    unique_elements = set(arr)\n",
    "    \n",
    "    if len(unique_elements) < 3:\n",
    "        return \"Array does not have at least three distinct elements\"\n",
    "    \n",
    "    sorted_elements = sorted(unique_elements, reverse=True)\n",
    "    \n",
    "    return sorted_elements[2]\n",
    "\n",
    "# Example usage:\n",
    "my_array = [5, 2, 8, 2, 1, 8, 10, 7, 5]\n",
    "result = third_highest(my_array)\n",
    "\n",
    "print(\"Third highest element:\", result)"
   ]
  },
  {
   "cell_type": "code",
   "execution_count": 28,
   "id": "af132aac",
   "metadata": {},
   "outputs": [
    {
     "data": {
      "text/plain": [
       "False"
      ]
     },
     "execution_count": 28,
     "metadata": {},
     "output_type": "execute_result"
    }
   ],
   "source": [
    "#issorted\n",
    "\n",
    "def isSorted(arr, n):\n",
    "    for i in range(1, n):\n",
    "        if arr[i] < arr[i - 1]:\n",
    "            return False\n",
    "    return True\n",
    "\n",
    "l = [1,2,3,4,5,0]\n",
    "\n",
    "isSorted(l,len(l))"
   ]
  },
  {
   "cell_type": "code",
   "execution_count": 33,
   "id": "84d74847",
   "metadata": {},
   "outputs": [
    {
     "name": "stdout",
     "output_type": "stream",
     "text": [
      "[1, 2, 3]\n"
     ]
    }
   ],
   "source": [
    "l = [1, 1, 2, 2, 2, 3, 3]\n",
    "\n",
    "s = set(l)\n",
    "\n",
    "i = 0\n",
    "for x in s:\n",
    "    l[i] = x\n",
    "    i+=1\n",
    "\n",
    "print(l[:i])"
   ]
  },
  {
   "cell_type": "code",
   "execution_count": 40,
   "id": "3dbfc14e",
   "metadata": {},
   "outputs": [
    {
     "name": "stdout",
     "output_type": "stream",
     "text": [
      "[0, 1, 2, 3, 4, 5]\n"
     ]
    }
   ],
   "source": [
    "#remove duplicates\n",
    "\n",
    "l = [0,1,1,2,3,3,4,4,4,5,5]\n",
    "i = 0\n",
    "\n",
    "for j in range(1,len(l)):\n",
    "    if l[j] != l[i]:\n",
    "        i+=1\n",
    "        l[i] = l[j]\n",
    "print(l[:i+1])"
   ]
  },
  {
   "cell_type": "code",
   "execution_count": 41,
   "id": "584406cb",
   "metadata": {},
   "outputs": [
    {
     "name": "stdout",
     "output_type": "stream",
     "text": [
      "2 3 4 5 1 "
     ]
    }
   ],
   "source": [
    "#left rotate array by 1\n",
    "\n",
    "def solve(arr, n):\n",
    "    temp = arr[0]  # storing the first element of the array in a variable\n",
    "    for i in range(n - 1):\n",
    "        arr[i] = arr[i + 1]\n",
    "    arr[n - 1] = temp  # assign the value of the variable at the last index\n",
    "    for i in range(n):\n",
    "        print(arr[i], end=\" \")\n",
    "\n",
    "n = 5\n",
    "arr = [1, 2, 3, 4, 5]\n",
    "solve(arr, n)"
   ]
  },
  {
   "cell_type": "code",
   "execution_count": 45,
   "id": "f695c781",
   "metadata": {},
   "outputs": [
    {
     "name": "stdout",
     "output_type": "stream",
     "text": [
      "[1, 2, 3]\n",
      "[4, 5, 1, 2, 3]\n"
     ]
    }
   ],
   "source": [
    "#rotate K left\n",
    "\n",
    "l = [1,2,3,4,5]\n",
    "\n",
    "k = 3\n",
    "\n",
    "temp = []\n",
    "for i in range(k):\n",
    "    temp.append(l[i])\n",
    "\n",
    "i=0\n",
    "for j in range(k,len(l)):\n",
    "    l[i] = l[j]\n",
    "    i+=1\n",
    "\n",
    "k = 0\n",
    "for j in range(i,len(l)):\n",
    "    l[j] = temp[k]\n",
    "    k += 1\n",
    "\n",
    "print(temp)\n",
    "print(l)"
   ]
  },
  {
   "cell_type": "code",
   "execution_count": 48,
   "id": "44990732",
   "metadata": {},
   "outputs": [
    {
     "name": "stdout",
     "output_type": "stream",
     "text": [
      "[4, 5, 1, 2, 3]\n"
     ]
    }
   ],
   "source": [
    "#my solution to rotate\n",
    "\n",
    "l = [1,2,3,4,5]\n",
    "k = 3\n",
    "for i in range(k):\n",
    "    temp = l.pop(0)\n",
    "    l.append(temp)\n",
    "print(l)"
   ]
  },
  {
   "cell_type": "code",
   "execution_count": 56,
   "id": "95553dc7",
   "metadata": {},
   "outputs": [
    {
     "name": "stdout",
     "output_type": "stream",
     "text": [
      "[1, 2, 3, 2, 4, 5, 1, 0, 0, 0]\n"
     ]
    }
   ],
   "source": [
    "## zeros at the end\n",
    "\n",
    "arr = [1, 0, 2, 3, 2, 0, 0, 4, 5, 1]\n",
    "\n",
    "i = arr.index(0)\n",
    "\n",
    "for j in range(i,len(arr)):\n",
    "    if arr[j]!=0:\n",
    "        arr[i],arr[j] = arr[j],arr[i]\n",
    "        i+=1\n",
    "\n",
    "print(arr)"
   ]
  },
  {
   "cell_type": "code",
   "execution_count": 60,
   "id": "204c629f",
   "metadata": {},
   "outputs": [
    {
     "name": "stdout",
     "output_type": "stream",
     "text": [
      "[1, 2, 3, 4, 5, 6]\n"
     ]
    }
   ],
   "source": [
    "l1 = [1,2,3,4,5]\n",
    "l2 = [3,4,5,6]\n",
    "\n",
    "i,j = 0,0\n",
    "union = []\n",
    "\n",
    "while i<len(l1) and j<len(l2):\n",
    "    if l1[i]<=l2[j]:\n",
    "        if len(union)==0 or union[-1]!=l1[i]:\n",
    "            union.append(l1[i])\n",
    "        i+=1\n",
    "    else:\n",
    "        if len(union)==0 or union[-1]!=l2[j]:\n",
    "            union.append(l2[j])\n",
    "        j+=1\n",
    "\n",
    "while i < len(l1):\n",
    "    if union[-1]!=l1[i]:\n",
    "        union.append(l1[i])\n",
    "    i+=1\n",
    "\n",
    "while j < len(l2):\n",
    "    if union[-1]!=l2[j]:\n",
    "        union.append(l2[j]) \n",
    "    j+=1\n",
    "\n",
    "print(union)"
   ]
  },
  {
   "cell_type": "code",
   "execution_count": 62,
   "id": "3cf63fc9",
   "metadata": {},
   "outputs": [
    {
     "name": "stdout",
     "output_type": "stream",
     "text": [
      "4\n"
     ]
    }
   ],
   "source": [
    "#Count Maximum Consecutive One’s in the array\n",
    "\n",
    "l = [1, 1, 0, 1, 1, 1,1, 0]\n",
    "\n",
    "count = 0 \n",
    "maxi = 0\n",
    "\n",
    "for i in range(len(l)):\n",
    "    if l[i]==1:\n",
    "        count+=1\n",
    "    else:\n",
    "        count=0\n",
    "    maxi = max(maxi,count)\n",
    "\n",
    "print(maxi)"
   ]
  },
  {
   "cell_type": "code",
   "execution_count": null,
   "id": "a9edf2b2",
   "metadata": {},
   "outputs": [],
   "source": []
  }
 ],
 "metadata": {
  "kernelspec": {
   "display_name": "Python 3 (ipykernel)",
   "language": "python",
   "name": "python3"
  },
  "language_info": {
   "codemirror_mode": {
    "name": "ipython",
    "version": 3
   },
   "file_extension": ".py",
   "mimetype": "text/x-python",
   "name": "python",
   "nbconvert_exporter": "python",
   "pygments_lexer": "ipython3",
   "version": "3.11.4"
  }
 },
 "nbformat": 4,
 "nbformat_minor": 5
}
