{
 "cells": [
  {
   "cell_type": "code",
   "execution_count": 4,
   "id": "7bbda3e8",
   "metadata": {},
   "outputs": [
    {
     "name": "stdout",
     "output_type": "stream",
     "text": [
      "3\n"
     ]
    }
   ],
   "source": [
    "## for positive numbers only O(2N)\n",
    "a = [2, 3, 5, 1, 9]\n",
    "k = 10\n",
    "SUM = a[0]\n",
    "maxlen = 0\n",
    "left,right = 0,0\n",
    "while right < len(a):\n",
    "    while left<=right and SUM>k:\n",
    "        SUM-=a[left]\n",
    "        left+=1\n",
    "    \n",
    "    if SUM==k:\n",
    "        maxlen = max(maxlen, right-left+1)\n",
    "    \n",
    "    right+=1\n",
    "    if right<len(a):\n",
    "        SUM+=a[right]\n",
    "print(maxlen)"
   ]
  },
  {
   "cell_type": "code",
   "execution_count": 12,
   "id": "fb1a93b7",
   "metadata": {},
   "outputs": [
    {
     "name": "stdout",
     "output_type": "stream",
     "text": [
      "4\n"
     ]
    }
   ],
   "source": [
    "## for both positive and negative numbers O(N)\n",
    "a = [2, 3, 5, 1, 9, 1, 1, 1, 7]\n",
    "N = len(a)\n",
    "k = 10\n",
    "SUM = 0\n",
    "maxlen = 0\n",
    "remmap = {}\n",
    "for i in range(N):\n",
    "    SUM+=a[i]\n",
    "    if SUM == k:\n",
    "        maxlen = max(maxlen, i+1)\n",
    "    \n",
    "    rem = SUM - k\n",
    "    if remmap.get(rem):\n",
    "        length = i - remmap[rem]\n",
    "        maxlen = max(maxlen, length)\n",
    "    \n",
    "    if not remmap.get(SUM):\n",
    "        remmap[SUM] = i\n",
    "print(maxlen)"
   ]
  },
  {
   "cell_type": "code",
   "execution_count": 13,
   "id": "bf2b3a99",
   "metadata": {},
   "outputs": [
    {
     "data": {
      "text/plain": [
       "[4, inf]"
      ]
     },
     "execution_count": 13,
     "metadata": {},
     "output_type": "execute_result"
    }
   ],
   "source": [
    "def getSecondOrderElements(n: int,  a: [int]) -> [int]:\n",
    "    # Write your code here.\n",
    "    largest = float('-inf')\n",
    "    slargest = float('-inf')\n",
    "    for i in range(n):\n",
    "        if a[i]>largest:\n",
    "            slargest = largest\n",
    "            largest = a[i]\n",
    "    \n",
    "    smallest = float('inf')\n",
    "    ssmallest = float('inf')\n",
    "    for j in range(n):\n",
    "        if a[j]<smallest:\n",
    "            ssmallest = smallest\n",
    "            smallest = a[j]\n",
    "    return [slargest, ssmallest]\n",
    "\n",
    "n = 5\n",
    "a = [1, 2, 3, 4, 5]\n",
    "\n",
    "getSecondOrderElements(n,a)"
   ]
  },
  {
   "cell_type": "code",
   "execution_count": null,
   "id": "12a949ae",
   "metadata": {},
   "outputs": [],
   "source": []
  }
 ],
 "metadata": {
  "kernelspec": {
   "display_name": "Python 3 (ipykernel)",
   "language": "python",
   "name": "python3"
  },
  "language_info": {
   "codemirror_mode": {
    "name": "ipython",
    "version": 3
   },
   "file_extension": ".py",
   "mimetype": "text/x-python",
   "name": "python",
   "nbconvert_exporter": "python",
   "pygments_lexer": "ipython3",
   "version": "3.11.4"
  }
 },
 "nbformat": 4,
 "nbformat_minor": 5
}
