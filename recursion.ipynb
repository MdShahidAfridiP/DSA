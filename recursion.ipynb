{
 "cells": [
  {
   "cell_type": "code",
   "execution_count": 2,
   "id": "a7b1d9e8",
   "metadata": {},
   "outputs": [
    {
     "name": "stdout",
     "output_type": "stream",
     "text": [
      "hello world!\n",
      "hello world!\n",
      "hello world!\n",
      "hello world!\n",
      "hello world!\n"
     ]
    }
   ],
   "source": [
    "def printname(i,num):\n",
    "    if i>num:\n",
    "        return\n",
    "    else:\n",
    "        print(\"hello world!\")\n",
    "        return printname(i+1,num)\n",
    "printname(1,5)"
   ]
  },
  {
   "cell_type": "code",
   "execution_count": 5,
   "id": "c3bd715f",
   "metadata": {},
   "outputs": [
    {
     "name": "stdout",
     "output_type": "stream",
     "text": [
      "1\n",
      "2\n",
      "3\n",
      "4\n",
      "5\n"
     ]
    }
   ],
   "source": [
    "def printnum(i,num):\n",
    "    if i>num:\n",
    "        return\n",
    "    else:\n",
    "        print(i)\n",
    "        printnum(i+1,5)\n",
    "printnum(1,5)"
   ]
  },
  {
   "cell_type": "code",
   "execution_count": 7,
   "id": "d990fdfc",
   "metadata": {},
   "outputs": [
    {
     "name": "stdout",
     "output_type": "stream",
     "text": [
      "5\n",
      "4\n",
      "3\n",
      "2\n",
      "1\n"
     ]
    }
   ],
   "source": [
    "def printnum(num):\n",
    "    if num<1:\n",
    "        return\n",
    "    else:\n",
    "        print(num)\n",
    "        printnum(num-1)\n",
    "printnum(5)"
   ]
  },
  {
   "cell_type": "code",
   "execution_count": 24,
   "id": "c0ec7922",
   "metadata": {},
   "outputs": [
    {
     "data": {
      "text/plain": [
       "15"
      ]
     },
     "execution_count": 24,
     "metadata": {},
     "output_type": "execute_result"
    }
   ],
   "source": [
    "def sumnum(num):\n",
    "    if num<=1:\n",
    "        return num\n",
    "    else:\n",
    "        return sumnum(num-1)+num\n",
    "sumnum(5)"
   ]
  },
  {
   "cell_type": "code",
   "execution_count": 12,
   "id": "aed99c46",
   "metadata": {},
   "outputs": [
    {
     "name": "stdout",
     "output_type": "stream",
     "text": [
      "15\n"
     ]
    }
   ],
   "source": [
    "def sumnum(i,num):\n",
    "    if i<1:\n",
    "        print(num)\n",
    "        return\n",
    "    else:\n",
    "        sumnum(i-1,num+i)\n",
    "sumnum(5,0)"
   ]
  },
  {
   "cell_type": "code",
   "execution_count": 13,
   "id": "2226fdee",
   "metadata": {},
   "outputs": [
    {
     "data": {
      "text/plain": [
       "120"
      ]
     },
     "execution_count": 13,
     "metadata": {},
     "output_type": "execute_result"
    }
   ],
   "source": [
    "def fact(n):\n",
    "    if n<=1:\n",
    "        return 1\n",
    "    else:\n",
    "        return n*fact(n-1)\n",
    "fact(5)"
   ]
  },
  {
   "cell_type": "code",
   "execution_count": 14,
   "id": "b97fb28d",
   "metadata": {},
   "outputs": [
    {
     "name": "stdout",
     "output_type": "stream",
     "text": [
      "enter : 1\n",
      "enter : 2\n",
      "enter : 3\n",
      "enter : 4\n",
      "enter : 5\n",
      "[1, 2, 3, 4, 5]\n",
      "[5, 4, 3, 2, 1]\n"
     ]
    }
   ],
   "source": [
    "n = 5\n",
    "arr = []\n",
    "for i in range(n):\n",
    "    arr.append(int(input(\"enter : \")))\n",
    "print(arr)\n",
    "first = 0\n",
    "last = n-1\n",
    "\n",
    "while first < last:\n",
    "    arr[first], arr[last] = arr[last], arr[first]\n",
    "    first+=1\n",
    "    last-=1\n",
    "print(arr)"
   ]
  },
  {
   "cell_type": "code",
   "execution_count": 18,
   "id": "9b0aaf38",
   "metadata": {},
   "outputs": [
    {
     "name": "stdout",
     "output_type": "stream",
     "text": [
      "[5, 4, 3, 2, 1]\n"
     ]
    }
   ],
   "source": [
    "def reversearray(arr, first, last):\n",
    "    if first>=last:\n",
    "        return arr\n",
    "    else:\n",
    "        arr[first], arr[last] = arr[last], arr[first]\n",
    "        return reversearray(arr, first+1, last-1)\n",
    "arr = [1,2,3,4,5]\n",
    "\n",
    "print(reversearray(arr,0,len(arr)-1))"
   ]
  },
  {
   "cell_type": "code",
   "execution_count": 23,
   "id": "7a7f354b",
   "metadata": {},
   "outputs": [
    {
     "name": "stdout",
     "output_type": "stream",
     "text": [
      "pallindrome\n"
     ]
    }
   ],
   "source": [
    "def pallindrome(name, first,last):\n",
    "    if first==last:\n",
    "        print(\"pallindrome\")\n",
    "        return\n",
    "    elif name[first]!=name[last]:\n",
    "        print(\"not pallindrome\")\n",
    "    else:\n",
    "        pallindrome(name,first+1,last-1)\n",
    "        \n",
    "name = '1234321'\n",
    "pallindrome(name,0,len(name)-1)"
   ]
  },
  {
   "cell_type": "code",
   "execution_count": 30,
   "id": "2e6b9e45",
   "metadata": {
    "scrolled": true
   },
   "outputs": [
    {
     "data": {
      "text/plain": [
       "3"
      ]
     },
     "execution_count": 30,
     "metadata": {},
     "output_type": "execute_result"
    }
   ],
   "source": [
    "def fibo(num):\n",
    "    if num<=1:\n",
    "        return num\n",
    "    else:\n",
    "        return fibo(num-2)+fibo(num-1)\n",
    "n=5\n",
    "fibo(n-1)"
   ]
  },
  {
   "cell_type": "code",
   "execution_count": null,
   "id": "be26d1e6",
   "metadata": {},
   "outputs": [],
   "source": []
  },
  {
   "cell_type": "code",
   "execution_count": 18,
   "id": "d96123a5",
   "metadata": {},
   "outputs": [
    {
     "name": "stdout",
     "output_type": "stream",
     "text": [
      "[3, 4, 1, 2, 2, 3, 1, 2, 2, 2, 1, 1, 0, 1, 2, 2, 0, 2, 1, 0, 2, 2, 3, 1, 0, 2]\n"
     ]
    }
   ],
   "source": [
    "def hashalpha(s,arr):\n",
    "    for i in s:\n",
    "        arr[ord(i)-ord('a')] += 1\n",
    "    print(arr)\n",
    "\n",
    "s = 'abcdbadfghrlnuofvabozfjewvziiejbxupwkhrwps'\n",
    "arr = [0]*26\n",
    "hashalpha(s,arr)"
   ]
  },
  {
   "cell_type": "code",
   "execution_count": 21,
   "id": "9ffbca0b",
   "metadata": {},
   "outputs": [
    {
     "name": "stdout",
     "output_type": "stream",
     "text": [
      "{1: 2, 2: 2, 3: 1, 4: 1}\n"
     ]
    }
   ],
   "source": [
    "def hashnum(l):\n",
    "    d = {}\n",
    "    for i in l:\n",
    "        if d.get(i):\n",
    "            d[i]+=1\n",
    "        else:\n",
    "            d[i]=1\n",
    "    print(d)\n",
    "hashnum([1,2,3,2,4,1])"
   ]
  },
  {
   "cell_type": "code",
   "execution_count": null,
   "id": "06089b3c",
   "metadata": {},
   "outputs": [],
   "source": []
  }
 ],
 "metadata": {
  "kernelspec": {
   "display_name": "Python 3 (ipykernel)",
   "language": "python",
   "name": "python3"
  },
  "language_info": {
   "codemirror_mode": {
    "name": "ipython",
    "version": 3
   },
   "file_extension": ".py",
   "mimetype": "text/x-python",
   "name": "python",
   "nbconvert_exporter": "python",
   "pygments_lexer": "ipython3",
   "version": "3.11.4"
  }
 },
 "nbformat": 4,
 "nbformat_minor": 5
}
