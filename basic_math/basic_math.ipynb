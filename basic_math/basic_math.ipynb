{
 "cells": [
  {
   "cell_type": "code",
   "execution_count": 3,
   "id": "7d30bfab",
   "metadata": {},
   "outputs": [
    {
     "name": "stdout",
     "output_type": "stream",
     "text": [
      "13\n"
     ]
    }
   ],
   "source": [
    "#count digits\n",
    "\n",
    "n=1234567891011\n",
    "count = 0\n",
    "while n!=0:\n",
    "    count+=1\n",
    "    n//=10\n",
    "print(count)"
   ]
  },
  {
   "cell_type": "code",
   "execution_count": 5,
   "id": "aaa5f383",
   "metadata": {},
   "outputs": [
    {
     "name": "stdout",
     "output_type": "stream",
     "text": [
      "87654321\n"
     ]
    }
   ],
   "source": [
    "#reverse number\n",
    "\n",
    "n=12345678\n",
    "reverse = 0\n",
    "while n!=0:\n",
    "    temp = n%10\n",
    "    reverse*=10\n",
    "    reverse+=temp\n",
    "    n//=10\n",
    "print(reverse)"
   ]
  },
  {
   "cell_type": "code",
   "execution_count": 7,
   "id": "981c351d",
   "metadata": {},
   "outputs": [
    {
     "name": "stdout",
     "output_type": "stream",
     "text": [
      "12321\n",
      "12321\n",
      "palindrome\n"
     ]
    }
   ],
   "source": [
    "#pallindrome\n",
    "\n",
    "num=12321\n",
    "n=num\n",
    "reverse = 0\n",
    "\n",
    "while n!=0:\n",
    "    temp = n%10\n",
    "    reverse *= 10\n",
    "    reverse += temp\n",
    "    n//=10\n",
    "\n",
    "print(num)\n",
    "print(reverse)\n",
    "\n",
    "if num==reverse:\n",
    "    print(\"palindrome\")\n",
    "else:\n",
    "    print(\"not\")"
   ]
  },
  {
   "cell_type": "code",
   "execution_count": 21,
   "id": "ceed5ab7",
   "metadata": {},
   "outputs": [
    {
     "name": "stdout",
     "output_type": "stream",
     "text": [
      "prime\n"
     ]
    }
   ],
   "source": [
    "#brute force (prime)\n",
    "\n",
    "n=11\n",
    "count = 0\n",
    "for i in range(1,n+1):\n",
    "    if n%i==0:\n",
    "        count+=1\n",
    "if count==2:\n",
    "    print(\"prime\")\n",
    "else:\n",
    "    print(\"not\")"
   ]
  },
  {
   "cell_type": "code",
   "execution_count": 23,
   "id": "986dd337",
   "metadata": {},
   "outputs": [
    {
     "name": "stdout",
     "output_type": "stream",
     "text": [
      "prime\n"
     ]
    }
   ],
   "source": [
    "#optimal (prime)\n",
    "\n",
    "from math import sqrt\n",
    "\n",
    "n=11\n",
    "for i in range(2,int(sqrt(n))):\n",
    "    if n%i == 0:\n",
    "        print(\"Not\")\n",
    "        break\n",
    "else:\n",
    "    print(\"prime\")"
   ]
  },
  {
   "cell_type": "code",
   "execution_count": 20,
   "id": "fedb4a00",
   "metadata": {},
   "outputs": [
    {
     "name": "stdout",
     "output_type": "stream",
     "text": [
      "digits :  3\n",
      "amstrong\n"
     ]
    }
   ],
   "source": [
    "#amstrong\n",
    "\n",
    "num=153\n",
    "n = num\n",
    "result = 0\n",
    "digits = 0\n",
    "\n",
    "while n!=0:\n",
    "    digits+=1\n",
    "    n//=10\n",
    "\n",
    "print(\"digits : \", digits)\n",
    "\n",
    "n = num\n",
    "\n",
    "while n!=0:\n",
    "    temp = n%10\n",
    "    result += temp**digits\n",
    "    n//=10\n",
    "if num==result:\n",
    "    print(\"amstrong\")\n",
    "else:\n",
    "    print(\"not\")"
   ]
  },
  {
   "cell_type": "code",
   "execution_count": 29,
   "id": "9c37aa03",
   "metadata": {},
   "outputs": [
    {
     "name": "stdout",
     "output_type": "stream",
     "text": [
      "1 36 2 18 3 12 4 9 6 "
     ]
    }
   ],
   "source": [
    "#all divisors\n",
    "n=36\n",
    "\n",
    "for i in range(1, int(n**0.5)+1):\n",
    "    if n%i == 0:\n",
    "        print(i,end=\" \")\n",
    "        if i != n/i:\n",
    "            print(int(n/i),end=\" \")"
   ]
  },
  {
   "cell_type": "code",
   "execution_count": 31,
   "id": "8df0fc9c",
   "metadata": {},
   "outputs": [
    {
     "name": "stdout",
     "output_type": "stream",
     "text": [
      "1 36 2 18 3 12 4 9 6 "
     ]
    }
   ],
   "source": [
    "n=36\n",
    "for i in range(1,int(sqrt(n))+1):\n",
    "    if n%i==0:\n",
    "        print(i, end=\" \")\n",
    "        if n%(n//i)==0 and i!=(n//i):\n",
    "            print((n//i),end=\" \")\n"
   ]
  },
  {
   "cell_type": "code",
   "execution_count": 33,
   "id": "f2ab5de8",
   "metadata": {},
   "outputs": [
    {
     "name": "stdout",
     "output_type": "stream",
     "text": [
      "4\n"
     ]
    }
   ],
   "source": [
    "#GCD of 2 nums (BF)\n",
    "\n",
    "num1 = 4\n",
    "num2 = 8\n",
    "GCD = 0\n",
    "n = min(num1,num2)\n",
    "for i in range(1,n+1):\n",
    "    if num1%i ==0 and num2%i==0:\n",
    "        GCD = i\n",
    "print(GCD)"
   ]
  },
  {
   "cell_type": "code",
   "execution_count": 43,
   "id": "e52f704c",
   "metadata": {},
   "outputs": [
    {
     "name": "stdout",
     "output_type": "stream",
     "text": [
      "GCD :  4\n"
     ]
    }
   ],
   "source": [
    "#optimal\n",
    "\n",
    "def gcd(a,b):\n",
    "    if b==0:\n",
    "        return a\n",
    "    return gcd(b,a%b)\n",
    "\n",
    "print(\"GCD : \", gcd(36,16))"
   ]
  }
 ],
 "metadata": {
  "kernelspec": {
   "display_name": "Python 3 (ipykernel)",
   "language": "python",
   "name": "python3"
  },
  "language_info": {
   "codemirror_mode": {
    "name": "ipython",
    "version": 3
   },
   "file_extension": ".py",
   "mimetype": "text/x-python",
   "name": "python",
   "nbconvert_exporter": "python",
   "pygments_lexer": "ipython3",
   "version": "3.11.4"
  }
 },
 "nbformat": 4,
 "nbformat_minor": 5
}
