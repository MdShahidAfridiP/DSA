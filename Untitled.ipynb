{
 "cells": [
  {
   "cell_type": "code",
   "execution_count": 1,
   "id": "0500743e",
   "metadata": {},
   "outputs": [],
   "source": [
    "import time"
   ]
  },
  {
   "cell_type": "code",
   "execution_count": 37,
   "id": "3c5b34b5",
   "metadata": {},
   "outputs": [
    {
     "name": "stdout",
     "output_type": "stream",
     "text": [
      "found!\n",
      "0.0\n",
      "found!\n",
      "0.0\n"
     ]
    }
   ],
   "source": [
    "l = [1,2,3,4,5,6,7,8]\n",
    "t1 = time.time()\n",
    "for i in l:\n",
    "    if i==8:\n",
    "        print(\"found!\")\n",
    "t2 = time.time()\n",
    "\n",
    "print((t2-t1)*100)\n",
    "\n",
    "l = [1,2,3,4,5,6,7,8]\n",
    "\n",
    "t1 = time.time()\n",
    "for i in l:\n",
    "    if i==8:\n",
    "        print(\"found!\")\n",
    "        break\n",
    "t2 = time.time()\n",
    "\n",
    "print((t2-t1)*100)"
   ]
  }
 ],
 "metadata": {
  "kernelspec": {
   "display_name": "Python 3 (ipykernel)",
   "language": "python",
   "name": "python3"
  },
  "language_info": {
   "codemirror_mode": {
    "name": "ipython",
    "version": 3
   },
   "file_extension": ".py",
   "mimetype": "text/x-python",
   "name": "python",
   "nbconvert_exporter": "python",
   "pygments_lexer": "ipython3",
   "version": "3.11.4"
  }
 },
 "nbformat": 4,
 "nbformat_minor": 5
}
