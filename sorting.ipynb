{
 "cells": [
  {
   "cell_type": "code",
   "execution_count": 11,
   "id": "c85eeb57",
   "metadata": {},
   "outputs": [
    {
     "name": "stdout",
     "output_type": "stream",
     "text": [
      "already sorted\n"
     ]
    },
    {
     "data": {
      "text/plain": [
       "[1, 2, 3, 4, 5, 6]"
      ]
     },
     "execution_count": 11,
     "metadata": {},
     "output_type": "execute_result"
    }
   ],
   "source": [
    "#bubble sort\n",
    "\n",
    "def bubblesort(l):\n",
    "    swap = 0\n",
    "    for i in range(len(l)):\n",
    "        for j in range(len(l)-i-1):\n",
    "            if l[j]>l[j+1]:\n",
    "                l[j],l[j+1] = l[j+1],l[j]\n",
    "                swap+=1\n",
    "        if not swap:\n",
    "            print(\"already sorted\")\n",
    "            return l\n",
    "    return l\n",
    "\n",
    "l1=[5,4,54,12,4,3,0,2,1]\n",
    "l2=[1,2,3,4,5,6]\n",
    "bubblesort(l2)"
   ]
  },
  {
   "cell_type": "code",
   "execution_count": 1,
   "id": "fe68a976",
   "metadata": {},
   "outputs": [
    {
     "data": {
      "text/plain": [
       "[1, 6, 7, 21, 24, 52, 67, 564]"
      ]
     },
     "execution_count": 1,
     "metadata": {},
     "output_type": "execute_result"
    }
   ],
   "source": [
    "def selection_sort(l):\n",
    "    for i in range(len(l)):\n",
    "        low = i\n",
    "        for j in range(i,len(l)):\n",
    "            if l[j] < l[low]:\n",
    "                low = j\n",
    "        l[i], l[low] = l[low], l[i]\n",
    "    return l\n",
    "\n",
    "l = [564,21,52,67,1,6,24,7]\n",
    "selection_sort(l)"
   ]
  },
  {
   "cell_type": "code",
   "execution_count": 5,
   "id": "8992b69e",
   "metadata": {},
   "outputs": [
    {
     "data": {
      "text/plain": [
       "[1, 6, 7, 21, 24, 52, 67, 564]"
      ]
     },
     "execution_count": 5,
     "metadata": {},
     "output_type": "execute_result"
    }
   ],
   "source": [
    "def insertion_sort(l):\n",
    "    for i in range(1,len(l)):\n",
    "        j=i-1\n",
    "        temp = l[i]\n",
    "        while j>=0 and temp<l[j]:\n",
    "            l[j+1] = l[j]\n",
    "            j-=1\n",
    "        l[j+1] = temp\n",
    "    return l\n",
    "l = [564,21,52,67,1,6,24,7]\n",
    "insertion_sort(l)"
   ]
  },
  {
   "cell_type": "code",
   "execution_count": null,
   "id": "de3a5e31",
   "metadata": {},
   "outputs": [],
   "source": []
  },
  {
   "cell_type": "code",
   "execution_count": null,
   "id": "200e19bd",
   "metadata": {},
   "outputs": [],
   "source": []
  },
  {
   "cell_type": "code",
   "execution_count": null,
   "id": "30acffd4",
   "metadata": {},
   "outputs": [],
   "source": []
  },
  {
   "cell_type": "code",
   "execution_count": null,
   "id": "01938ac4",
   "metadata": {},
   "outputs": [],
   "source": []
  },
  {
   "cell_type": "code",
   "execution_count": null,
   "id": "26e5b1cd",
   "metadata": {},
   "outputs": [],
   "source": []
  },
  {
   "cell_type": "code",
   "execution_count": null,
   "id": "2e14a032",
   "metadata": {},
   "outputs": [],
   "source": []
  },
  {
   "cell_type": "code",
   "execution_count": null,
   "id": "ec1f6cd3",
   "metadata": {},
   "outputs": [
    {
     "data": {
      "text/plain": [
       "[21, 52, 24, 67, 1, 6, 24, 7, 564]"
      ]
     },
     "execution_count": 15,
     "metadata": {},
     "output_type": "execute_result"
    }
   ],
   "source": [
    "class sortings:\n",
    "    def bubblesort(self,l):\n",
    "        for i in range(len(l)):\n",
    "            for j in range(len(l)-i-1):\n",
    "                if l[j]>l[j+1]:\n",
    "                    l[j],l[j+1] = l[j+1],l[j]\n",
    "        return l\n",
    "    \n",
    "    def selection_sort(self,l):\n",
    "        for i in range(len(l)):\n",
    "            low = i\n",
    "            for j in range(i+1, len(l)):\n",
    "                if l[j]<l[low]:\n",
    "                    low = j\n",
    "            l[i],l[low] = l[low],l[i]\n",
    "        return l\n",
    "    \n",
    "    def insertion_sort(self,l):\n",
    "        for i in range(1,len(l)):\n",
    "            j = i-1\n",
    "            while j>=0 and l[j]>l[i]:\n",
    "                l[i],l[j]=l[j],l[i]\n",
    "                j-=1\n",
    "        return l\n",
    "\n",
    "obj = sortings()\n",
    "l = [564,21,52,24,67,1,6,24,7]\n",
    "obj.insertion_sort(l)"
   ]
  },
  {
   "cell_type": "code",
   "execution_count": null,
   "id": "c990ec81",
   "metadata": {},
   "outputs": [],
   "source": []
  }
 ],
 "metadata": {
  "kernelspec": {
   "display_name": "Python 3 (ipykernel)",
   "language": "python",
   "name": "python3"
  },
  "language_info": {
   "codemirror_mode": {
    "name": "ipython",
    "version": 3
   },
   "file_extension": ".py",
   "mimetype": "text/x-python",
   "name": "python",
   "nbconvert_exporter": "python",
   "pygments_lexer": "ipython3",
   "version": "3.11.4"
  }
 },
 "nbformat": 4,
 "nbformat_minor": 5
}
