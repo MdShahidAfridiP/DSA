{
 "cells": [
  {
   "cell_type": "code",
   "execution_count": 11,
   "id": "c85eeb57",
   "metadata": {},
   "outputs": [
    {
     "name": "stdout",
     "output_type": "stream",
     "text": [
      "already sorted\n"
     ]
    },
    {
     "data": {
      "text/plain": [
       "[1, 2, 3, 4, 5, 6]"
      ]
     },
     "execution_count": 11,
     "metadata": {},
     "output_type": "execute_result"
    }
   ],
   "source": [
    "#bubble sort\n",
    "\n",
    "def bubblesort(l):\n",
    "    swap = 0\n",
    "    for i in range(len(l)):\n",
    "        for j in range(len(l)-i-1):\n",
    "            if l[j]>l[j+1]:\n",
    "                l[j],l[j+1] = l[j+1],l[j]\n",
    "                swap+=1\n",
    "        if not swap:\n",
    "            print(\"already sorted\")\n",
    "            return l\n",
    "    return l\n",
    "\n",
    "l1=[5,4,54,12,4,3,0,2,1]\n",
    "l2=[1,2,3,4,5,6]\n",
    "bubblesort(l2)"
   ]
  },
  {
   "cell_type": "code",
   "execution_count": 1,
   "id": "fe68a976",
   "metadata": {},
   "outputs": [
    {
     "data": {
      "text/plain": [
       "[1, 6, 7, 21, 24, 52, 67, 564]"
      ]
     },
     "execution_count": 1,
     "metadata": {},
     "output_type": "execute_result"
    }
   ],
   "source": [
    "def selection_sort(l):\n",
    "    for i in range(len(l)):\n",
    "        low = i\n",
    "        for j in range(i,len(l)):\n",
    "            if l[j] < l[low]:\n",
    "                low = j\n",
    "        l[i], l[low] = l[low], l[i]\n",
    "    return l\n",
    "\n",
    "l = [564,21,52,67,1,6,24,7]\n",
    "selection_sort(l)"
   ]
  },
  {
   "cell_type": "code",
   "execution_count": 5,
   "id": "919caecf",
   "metadata": {},
   "outputs": [
    {
     "data": {
      "text/plain": [
       "[1, 6, 7, 21, 24, 52, 67, 564]"
      ]
     },
     "execution_count": 5,
     "metadata": {},
     "output_type": "execute_result"
    }
   ],
   "source": [
    "def insertion_sort(l):\n",
    "    for i in range(1,len(l)):\n",
    "        j=i-1\n",
    "        temp = l[i]\n",
    "        while j>=0 and temp<l[j]:\n",
    "            l[j+1] = l[j]\n",
    "            j-=1\n",
    "        l[j+1] = temp\n",
    "    return l\n",
    "l = [564,21,52,67,1,6,24,7]\n",
    "insertion_sort(l)"
   ]
  },
  {
   "cell_type": "code",
   "execution_count": 17,
   "id": "04c4117c",
   "metadata": {},
   "outputs": [
    {
     "data": {
      "text/plain": [
       "[1, 6, 7, 21, 24, 24, 52, 67, 564]"
      ]
     },
     "execution_count": 17,
     "metadata": {},
     "output_type": "execute_result"
    }
   ],
   "source": [
    "class sortings:\n",
    "    def bubblesort(self,l):\n",
    "        swap = 0\n",
    "        for i in range(len(l)):\n",
    "            for j in range(len(l)-i-1):\n",
    "                if l[j]>l[j+1]:\n",
    "                    l[j],l[j+1] = l[j+1],l[j]\n",
    "                    swap+=1\n",
    "            if swap == 0:\n",
    "                break\n",
    "        return l\n",
    "    \n",
    "    def selection_sort(self,l):\n",
    "        for i in range(len(l)):\n",
    "            low = i\n",
    "            for j in range(i+1, len(l)):\n",
    "                if l[j]<l[low]:\n",
    "                    low = j\n",
    "            l[i],l[low] = l[low],l[i]\n",
    "        return l\n",
    "    \n",
    "    def insertion_sort(self,l):\n",
    "        for i in range(1,len(l)):\n",
    "            j = i-1\n",
    "            temp = l[i]\n",
    "            while j>=0 and l[j]>temp:\n",
    "                l[j+1] = l[j]\n",
    "                j-=1\n",
    "            l[j+1] = temp\n",
    "        return l\n",
    "\n",
    "obj = sortings()\n",
    "l = [564,21,52,24,67,1,6,24,7]\n",
    "obj.insertion_sort(l)"
   ]
  },
  {
   "cell_type": "code",
   "execution_count": 32,
   "id": "7f844676",
   "metadata": {},
   "outputs": [
    {
     "data": {
      "text/plain": [
       "[1, 6, 7, 21, 24, 24, 52, 67, 564]"
      ]
     },
     "execution_count": 32,
     "metadata": {},
     "output_type": "execute_result"
    }
   ],
   "source": [
    "class recursivesort:\n",
    "    \n",
    "    def bubble_sort(self,l,n):\n",
    "        swap = 0\n",
    "        if n==1:\n",
    "            return l\n",
    "        for i in range(n-1):\n",
    "            if l[i]>l[i+1]:\n",
    "                l[i],l[i+1] = l[i+1],l[i]\n",
    "                swap+=1\n",
    "        if not swap:\n",
    "            print(\"already sorted!\")\n",
    "            return l\n",
    "        return self.bubble_sort(l,n-1)\n",
    "    \n",
    "    def insertion_sort(self, l, n):\n",
    "        if n==len(l):\n",
    "            return l\n",
    "        j = n-1\n",
    "        temp = l[n]\n",
    "        while j>=0 and l[j]>temp:\n",
    "            l[j+1] = l[j]\n",
    "            j-=1\n",
    "        l[j+1] = temp\n",
    "        return self.insertion_sort(l,n+1)\n",
    "\n",
    "obj = recursivesort()\n",
    "l1 = [564,21,52,24,67,1,6,24,7]\n",
    "l2 = [1,2,3,4,5]\n",
    "\n",
    "obj.insertion_sort(l1,0)"
   ]
  },
  {
   "cell_type": "code",
   "execution_count": 8,
   "id": "af7daf3e",
   "metadata": {},
   "outputs": [
    {
     "name": "stdout",
     "output_type": "stream",
     "text": [
      "Sorted array: [1, 6, 7, 21, 24, 24, 52, 67, 564]\n"
     ]
    }
   ],
   "source": [
    "def mergesort(arr):\n",
    "    if len(arr)<=1:\n",
    "        return arr\n",
    "    else:\n",
    "        mid = len(arr)//2\n",
    "        left = arr[:mid]\n",
    "        right = arr[mid:]\n",
    "        left_sort = mergesort(left)\n",
    "        right_sort = mergesort(right)\n",
    "        return merge(left_sort,right_sort)\n",
    "\n",
    "def merge(left, right):\n",
    "    left_index, right_index = 0,0\n",
    "    results = []\n",
    "    while(left_index<len(left) and right_index<len(right)):\n",
    "        if left[left_index]<right[right_index]:\n",
    "            results.append(left[left_index])\n",
    "            left_index+=1\n",
    "        else:\n",
    "            results.append(right[right_index])\n",
    "            right_index+=1\n",
    "    results.extend(left[left_index:])\n",
    "    results.extend(right[right_index:])\n",
    "    return results\n",
    "\n",
    "arr = [564,21,52,24,67,1,6,24,7]\n",
    "sorted_arr = mergesort(arr)\n",
    "print(\"Sorted array:\", sorted_arr)"
   ]
  },
  {
   "cell_type": "code",
   "execution_count": null,
   "id": "f99c69fa",
   "metadata": {},
   "outputs": [],
   "source": []
  }
 ],
 "metadata": {
  "kernelspec": {
   "display_name": "Python 3 (ipykernel)",
   "language": "python",
   "name": "python3"
  },
  "language_info": {
   "codemirror_mode": {
    "name": "ipython",
    "version": 3
   },
   "file_extension": ".py",
   "mimetype": "text/x-python",
   "name": "python",
   "nbconvert_exporter": "python",
   "pygments_lexer": "ipython3",
   "version": "3.11.4"
  }
 },
 "nbformat": 4,
 "nbformat_minor": 5
}
